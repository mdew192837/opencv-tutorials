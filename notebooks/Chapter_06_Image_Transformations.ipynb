{
 "cells": [
  {
   "cell_type": "markdown",
   "metadata": {},
   "source": [
    "# Resizing\n",
    "\n",
    "## What interpolation method do you use?\n",
    "\n",
    "In general, I find that using cv2.\n",
    "INTER_AREA obtains the best results when resizing; however,\n",
    "other appropriate choices include cv2.INTER_LINEAR,\n",
    "cv2.INTER_CUBIC, and cv2.INTER_NEAREST\n",
    "\n",
    "## Process\n",
    "\n",
    "1. Find the aspect ratio by dividing the new width by the old width (which is the number of columns, so `.shape[1]`\n",
    "2. Create an array for dimensions by using the new width and multiplying the height (which is the number of rows, so `.shape[0]` by the ratio\n",
    "3. Pass in the image, dimensions, and interpolation parameters (usually `INTER_AREA` into the function\n",
    "4. See the magic!"
   ]
  },
  {
   "cell_type": "markdown",
   "metadata": {},
   "source": [
    "# Shifting an Image\n",
    "\n",
    "## Process\n",
    "\n",
    "1. Basically create the transformation matrix. One for the x, one for the y. X will look like `[1, 0, Tx]`, Y will look like `[0, 1, Ty]`. Negative values will shift to the left and up, positive values will shift to the right and down\n",
    "2. Use the `warpAffine` function and pass in the width (columns) and height (rows)"
   ]
  },
  {
   "cell_type": "code",
   "execution_count": 1,
   "metadata": {
    "collapsed": true
   },
   "outputs": [
    {
     "ename": "ModuleNotFoundError",
     "evalue": "No module named 'imutils'",
     "output_type": "error",
     "traceback": [
      "\u001b[0;31m---------------------------------------------------------------------------\u001b[0m",
      "\u001b[0;31mModuleNotFoundError\u001b[0m                       Traceback (most recent call last)",
      "\u001b[0;32m<ipython-input-1-93ccecd982bf>\u001b[0m in \u001b[0;36m<module>\u001b[0;34m()\u001b[0m\n\u001b[1;32m      1\u001b[0m \u001b[0;32mimport\u001b[0m \u001b[0mnumpy\u001b[0m \u001b[0;32mas\u001b[0m \u001b[0mnp\u001b[0m\u001b[0;34m\u001b[0m\u001b[0m\n\u001b[1;32m      2\u001b[0m \u001b[0;32mimport\u001b[0m \u001b[0margparse\u001b[0m\u001b[0;34m\u001b[0m\u001b[0m\n\u001b[0;32m----> 3\u001b[0;31m \u001b[0;32mimport\u001b[0m \u001b[0mimutils\u001b[0m\u001b[0;34m\u001b[0m\u001b[0m\n\u001b[0m\u001b[1;32m      4\u001b[0m \u001b[0;32mimport\u001b[0m \u001b[0mcv2\u001b[0m\u001b[0;34m\u001b[0m\u001b[0m\n\u001b[1;32m      5\u001b[0m \u001b[0;34m\u001b[0m\u001b[0m\n",
      "\u001b[0;31mModuleNotFoundError\u001b[0m: No module named 'imutils'"
     ]
    }
   ],
   "source": [
    "import numpy as np\n",
    "import argparse\n",
    "import imutils\n",
    "import cv2\n",
    "\n",
    "ap = argparse.ArgumentParser()\n",
    "ap.add_argument(\"-i\", \"--image\", required = True, help = \"Path to the image\")\n",
    "args = vars(ap.parse_args())\n",
    "\n",
    "image = cv2.imread(args[\"image\"])\n",
    "cv2.imshow(\"Original\", image)\n",
    "cv2.waitKey(0)\n",
    "\n",
    "# First array is [1, 0, tx], which is the number of pixels to shift left or right\n",
    "## Negative values shift image left and positive right\n",
    "# Second array is [0, 1, ty], which is the number of pixels to shift up or down\n",
    "## Negative values shift the image up and positive down\n",
    "M = np.float32([[1, 0, 25], [0, 1, 50]])\n",
    "shifted = cv2.warpAffine(image, M, (image.shape[1], image.shape[0]))\n",
    "cv2.imshow(\"Shifted Down and Right\", shifted)\n",
    "cv2.waitKey(0)\n",
    "\n",
    "M = np.float32([[1,0,-50],[0,1,-90]])\n",
    "shifted = cv2.warpAffine(image, M, (image.shape[1], image.shape[0]))\n",
    "cv2.imshow(\"Shifted Up and Left\", shifted)\n",
    "cv2.waitKey(0)\n",
    "\n",
    "shifted = imutils.translate(image, 0, 100)\n",
    "cv2.imshow(\"Shifted Down\", shifted)\n",
    "cv2.waitKey(0)"
   ]
  },
  {
   "cell_type": "markdown",
   "metadata": {},
   "source": [
    "# Rotating an Image\n",
    "\n",
    "## Process\n",
    "\n",
    "1. Calculate the center of the image (assumed to be where the people start rotating)\n",
    "2. Call the `getRotationMatrix2D` to rotate the image a certain amount\n",
    "3. Call the `warpAffine` function to pass in the image, rotation matrix, and dimensions"
   ]
  },
  {
   "cell_type": "code",
   "execution_count": 2,
   "metadata": {
    "collapsed": true
   },
   "outputs": [
    {
     "ename": "ModuleNotFoundError",
     "evalue": "No module named 'cv2'",
     "output_type": "error",
     "traceback": [
      "\u001b[0;31m---------------------------------------------------------------------------\u001b[0m",
      "\u001b[0;31mModuleNotFoundError\u001b[0m                       Traceback (most recent call last)",
      "\u001b[0;32m<ipython-input-2-10d0bc3e2d85>\u001b[0m in \u001b[0;36m<module>\u001b[0;34m()\u001b[0m\n\u001b[1;32m      1\u001b[0m \u001b[0;32mimport\u001b[0m \u001b[0margparse\u001b[0m\u001b[0;34m\u001b[0m\u001b[0m\n\u001b[0;32m----> 2\u001b[0;31m \u001b[0;32mimport\u001b[0m \u001b[0mcv2\u001b[0m\u001b[0;34m\u001b[0m\u001b[0m\n\u001b[0m\u001b[1;32m      3\u001b[0m \u001b[0;32mimport\u001b[0m \u001b[0mnumpy\u001b[0m \u001b[0;32mas\u001b[0m \u001b[0mnp\u001b[0m\u001b[0;34m\u001b[0m\u001b[0m\n\u001b[1;32m      4\u001b[0m \u001b[0;32mimport\u001b[0m \u001b[0mimutils\u001b[0m\u001b[0;34m\u001b[0m\u001b[0m\n\u001b[1;32m      5\u001b[0m \u001b[0;34m\u001b[0m\u001b[0m\n",
      "\u001b[0;31mModuleNotFoundError\u001b[0m: No module named 'cv2'"
     ]
    }
   ],
   "source": [
    "import argparse\n",
    "import cv2\n",
    "import numpy as np\n",
    "import imutils\n",
    "\n",
    "ap = argparse.ArgumentParser()\n",
    "ap.add_argument(\"-i\", \"--image\", required=True, help=\"Path to Image\")\n",
    "args = vars(ap.parse_args())\n",
    "\n",
    "image = cv2.imread(args[\"image\"])\n",
    "cv2.imshow(\"Original Image\", image)\n",
    "\n",
    "# Grab the shape\n",
    "(h, w) = image.shape[0:2]\n",
    "# Calculate the center of the image\n",
    "## Use half of the height and half of the width\n",
    "center = (h // 2, w // 2)\n",
    "\n",
    "# Pass in the center, angle, and scale of the image\n",
    "M = cv2.getRotationMatrix2D(center, 45, 1.0)\n",
    "# Output dimensions are in width and height\n",
    "# We use (h, w) for the image because we say rows by columns, which is height by width\n",
    "rotated = cv2.warpAffine(image, M, (w, h))\n",
    "cv2.imshow(\"Rotated by 45 Degrees\", rotated)\n",
    "\n",
    "# Pass in the center, angle, and scale of the image\n",
    "M = cv2.getRotationMatrix2D(center, -90, 1.0)\n",
    "# Output dimensions are in width and height\n",
    "# We use (h, w) for the image because we say rows by columns, which is height by width\n",
    "rotated = cv2.warpAffine(image, M, (w, h))\n",
    "cv2.imshow(\"Rotated by -90 Degrees\", rotated)\n",
    "\n",
    "rotated = imutils.rotate(image, 180)\n",
    "cv2.imshow(\"Rotated by 180 Degrees\", rotated)\n",
    "cv2.waitKey(0)"
   ]
  },
  {
   "cell_type": "markdown",
   "metadata": {},
   "source": [
    "# Flipping Images\n",
    "\n",
    "## Process\n",
    "\n",
    "1. Just use the `.flip` function with the image, and what type of flip.\n",
    "\n",
    "* `-1` for flipping both horizontally and vertically\n",
    "* `1` for flipping horizontal because 1 would signify columns which if you flipped over a constant column would be horizontal\n",
    "* `0` for flipping vertical because 0 signifies rows which if you flipped over a constant row would be vertical"
   ]
  },
  {
   "cell_type": "markdown",
   "metadata": {},
   "source": [
    "# `imutils.py`"
   ]
  },
  {
   "cell_type": "code",
   "execution_count": 3,
   "metadata": {
    "collapsed": true
   },
   "outputs": [
    {
     "ename": "ModuleNotFoundError",
     "evalue": "No module named 'cv2'",
     "output_type": "error",
     "traceback": [
      "\u001b[0;31m---------------------------------------------------------------------------\u001b[0m",
      "\u001b[0;31mModuleNotFoundError\u001b[0m                       Traceback (most recent call last)",
      "\u001b[0;32m<ipython-input-3-bea0e64df7c6>\u001b[0m in \u001b[0;36m<module>\u001b[0;34m()\u001b[0m\n\u001b[1;32m      1\u001b[0m \u001b[0;32mimport\u001b[0m \u001b[0mnumpy\u001b[0m \u001b[0;32mas\u001b[0m \u001b[0mnp\u001b[0m\u001b[0;34m\u001b[0m\u001b[0m\n\u001b[0;32m----> 2\u001b[0;31m \u001b[0;32mimport\u001b[0m \u001b[0mcv2\u001b[0m\u001b[0;34m\u001b[0m\u001b[0m\n\u001b[0m\u001b[1;32m      3\u001b[0m \u001b[0;34m\u001b[0m\u001b[0m\n\u001b[1;32m      4\u001b[0m \u001b[0;32mdef\u001b[0m \u001b[0mtranslate\u001b[0m\u001b[0;34m(\u001b[0m\u001b[0mimage\u001b[0m\u001b[0;34m,\u001b[0m \u001b[0mx\u001b[0m\u001b[0;34m,\u001b[0m \u001b[0my\u001b[0m\u001b[0;34m)\u001b[0m\u001b[0;34m:\u001b[0m\u001b[0;34m\u001b[0m\u001b[0m\n\u001b[1;32m      5\u001b[0m     \u001b[0mM\u001b[0m \u001b[0;34m=\u001b[0m \u001b[0mnp\u001b[0m\u001b[0;34m.\u001b[0m\u001b[0mfloat32\u001b[0m\u001b[0;34m(\u001b[0m\u001b[0;34m[\u001b[0m\u001b[0;34m[\u001b[0m\u001b[0;36m1\u001b[0m\u001b[0;34m,\u001b[0m \u001b[0;36m0\u001b[0m\u001b[0;34m,\u001b[0m \u001b[0mx\u001b[0m\u001b[0;34m]\u001b[0m\u001b[0;34m,\u001b[0m \u001b[0;34m[\u001b[0m\u001b[0;36m0\u001b[0m\u001b[0;34m,\u001b[0m \u001b[0;36m1\u001b[0m\u001b[0;34m,\u001b[0m \u001b[0my\u001b[0m\u001b[0;34m]\u001b[0m\u001b[0;34m]\u001b[0m\u001b[0;34m)\u001b[0m\u001b[0;34m\u001b[0m\u001b[0m\n",
      "\u001b[0;31mModuleNotFoundError\u001b[0m: No module named 'cv2'"
     ]
    }
   ],
   "source": [
    "import numpy as np\n",
    "import cv2\n",
    "\n",
    "def translate(image, x, y):\n",
    "    M = np.float32([[1, 0, x], [0, 1, y]])\n",
    "    shifted = cv2.warpAffine(image, M, (image.shape[1], image.shape[0]))\n",
    "    return shifted\n",
    "\n",
    "def rotate(image, angle, center = None, scale = 1.0):\n",
    "    (h, w) = image.shape[:2]\n",
    "\n",
    "    if center is None:\n",
    "        center = (w // 2, h // 2)\n",
    "\n",
    "    M = cv2.getRotationMatrix2D(center, angle, scale)\n",
    "    rotated = cv2.warpAffine(image, M, (w, h))\n",
    "    return rotated\n",
    "\n",
    "def resize(image, width = None, height = None, inter=cv2.INTER_AREA):\n",
    "    dimensions = None\n",
    "    (h, w) = image.shape[:2]\n",
    "\n",
    "    if width is None and height is None:\n",
    "        # No resizing necessary\n",
    "        return image\n",
    "\n",
    "    if width is None:\n",
    "        # We want to resize the height\n",
    "        ratio = height / float(h)\n",
    "        dimensions = (int(w * ratio), height)\n",
    "    else:\n",
    "        # We want to resize the width\n",
    "        ratio = width / float(w)\n",
    "        dimensions = (width, int(h * ratio))\n",
    "\n",
    "    resized = cv2.resize(image, dimensions, interpolation=inter)\n",
    "\n",
    "    return resized"
   ]
  },
  {
   "cell_type": "markdown",
   "metadata": {},
   "source": [
    "# 6.2 - Image Arithmetic\n",
    "\n",
    "## Why is it important?\n",
    "\n",
    "It's important because there will be cases where you will need to manipulate your images, and you're only limited to values between 0 and 255 for RGB.\n",
    "\n",
    "The two main methods people take are:\n",
    "- Wrapping around (such as NumPy)\n",
    "- Clipping off excess values (such as OpenCV)\n",
    "\n",
    "## How do We Utilize `openCV`s Clipping Tools?\n",
    "\n",
    "`opencv.add()` and `opencv.subtract()` will take care of the clipping for us when we pass in NumPy arrays\n",
    "\n",
    "Just make sure you use the `np.ones(image.shape, dtype = \"uint8\")` with type `uint8` in order to restrict values to 0 to 255"
   ]
  },
  {
   "cell_type": "markdown",
   "metadata": {},
   "source": [
    "# 6.3 - The Four Bitwise Operators\n",
    "\n",
    "* `AND`\n",
    "* `OR`\n",
    "* `XOR`\n",
    "* `NOT`\n",
    "\n",
    "## The Idea\n",
    "\n",
    "A pixel is turned \"off\" if it has a value of zero and turned \"on\" if it has a value of one\n",
    "\n",
    "## The Theory\n",
    "\n",
    "1. `AND` - A bitwise AND is true if and only if both pixels are greater than zero.\n",
    "2. `OR` - A bitwise OR is true if either of the two pixels are greater than zero\n",
    "3. `XOR` - A bitwise XOR is true if and only if either of the two pixels are greater than zero, but not both.\n",
    "4. `NOT` - A bitwise NOT inverts the “on” and “off” pixels in an image."
   ]
  },
  {
   "cell_type": "markdown",
   "metadata": {},
   "source": [
    "# 6.4 - Masking\n",
    "\n",
    "## Why Do We Need Masking?\n",
    "\n",
    "It helps us to only focus on the part of the image that interests us.\n",
    "\n",
    "So in the case of a beach, we may only want to look at the palm trees. So what we can do is create a black canvas of the same size as the beach image, create a white (has RGB > 0) rectangle over the area we want and apply a bitwise `AND` operator on it\n",
    "\n",
    "## How To Do It\n",
    "\n",
    "1. Read in your image\n",
    "2. Find the center of your image\n",
    "3. Basically instead of drawing a rectange, you define your width and height and add half of each of those to the center. So for example:\n",
    "4. Call the `cv2.bitwise_and` operator\n",
    "\n",
    "`cv2.rectangle(mask, (cX - 75, cY - 75), (cX + 75 , cY + 75), 255, -1)`"
   ]
  },
  {
   "cell_type": "markdown",
   "metadata": {},
   "source": [
    "# 6.5 - Splitting and Merging Channels\n",
    "\n",
    "## What Are Channels?\n",
    "\n",
    "So we know that color images consist of `Red`, `Green`, and `Blue`\n",
    "\n",
    "## Let's Discuss in Context of Waves\n",
    "\n",
    "So the channels of the wave would be as follows:\n",
    "- the red channel would be very heavy since it's not represented\n",
    "- the blue channel would be very light since it's represented a lot\n",
    "- the green channel would be in the middle since it's slightly represented\n",
    "\n",
    "## So.... How Do We Use It?\n",
    "\n",
    "Remember that OpenCV stores RGB values for images using `[B, G, R]` instead of `[R, G, B]`\n",
    "\n",
    "1. Split the image into the channels using `cv2.split(image)`\n",
    "2. Display each channel individually using `cv2.imshow(\"Red\", R)` for example\n",
    "3. Merge the channels by using `cv2.merge([B, G, R])`\n",
    "\n",
    "If you want to actually show the color in each channel, just pass in zeros for the other arguments in R, G, B format.\n",
    "\n",
    "So for example, if you wanted to show red, you would have `[zeros, zeros, R]` noting that images in OpenCV again are stored in `[B, G, R]` instead of `[R, G, B]`\n",
    "\n",
    "## Changing Color Spaces\n",
    "\n",
    "Let's be real. We're not always going to have `RGB` color spaces. Sometimes, we'll have `HSV` color spaces as well\n",
    "\n",
    "How do we convert between them?\n",
    "\n",
    "### How to Convert\n",
    "\n",
    "1. Import your image\n",
    "2. Call the respective function, for example:\n",
    "\n",
    "`\n",
    "gray = cv2.cvtColor(resized_image, cv2.COLOR_BGR2GRAY)\n",
    "`\n",
    "\n",
    "This will call the `cvtColor` function on the image and pass in the `COLOR_BGR2GRAY` constant to tell `cv2` to conver this image to grayscale.\n",
    "\n",
    "The other common ones are `COLOR_BGR2HSV` (HSV format) and `COLOR_BGR2LAB` (`L*a*b` format)"
   ]
  },
  {
   "cell_type": "code",
   "execution_count": null,
   "metadata": {},
   "outputs": [],
   "source": []
  }
 ],
 "metadata": {
  "kernelspec": {
   "display_name": "Python 3",
   "language": "python",
   "name": "python3"
  },
  "language_info": {
   "codemirror_mode": {
    "name": "ipython",
    "version": 3
   },
   "file_extension": ".py",
   "mimetype": "text/x-python",
   "name": "python",
   "nbconvert_exporter": "python",
   "pygments_lexer": "ipython3",
   "version": "3.7.0"
  }
 },
 "nbformat": 4,
 "nbformat_minor": 2
}
