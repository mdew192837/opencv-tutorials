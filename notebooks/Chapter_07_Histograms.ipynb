{
 "cells": [
  {
   "cell_type": "markdown",
   "metadata": {},
   "source": [
    "# 7.0 What Does the Histogram Do?\n",
    "\n",
    "It provides a high-level intuition of the intensity (pixel value) distribution.\n",
    "\n",
    "Ex.\n",
    "* If you have 256 bins from [0, 256] then you are counting how many times each pixel value occurs\n",
    "* If you have two bins, then you are counting how many pixels are in the range [0, 128) and [129, 255]\n",
    "\n",
    "Gives you general information about:\n",
    "* Contrast\n",
    "* Brightness\n",
    "* Intensity Distribution"
   ]
  },
  {
   "cell_type": "markdown",
   "metadata": {},
   "source": [
    "# 7.1 - Using OpenCV to Compute Histograms \n",
    "\n",
    "## `cv2.calcHist()`\n",
    "\n",
    "* `images` - a list of the images you need\n",
    "* `channels` - channels you want to compute. Grayscale is just `[0]`, RGB (BGR) is `[0, 1, 2]`\n",
    "* `mask` - if you only want the histogram for a certain part of the image, we can do that as well!\n",
    "* `histSize` - how many bins per channel, can be different! Ex. `[32, 32, 32]` will give you 32 bins per channel\n",
    "* `ranges` - the range of values / pixels you want. Will be different if you're using something other than RGB"
   ]
  },
  {
   "cell_type": "markdown",
   "metadata": {},
   "source": [
    "# 7.2 - Computing a Grayscale Histogram\n",
    "\n",
    "Basically you just need one line to convert it, everything else we've done before:\n",
    "\n",
    "`\n",
    "hist = cv2.calcHist([image], [0], None, [256], [0, 256])\n",
    "`\n",
    "\n",
    "So one image, one channel (grayscale), no mask, 256 bins, range from 0 to 256"
   ]
  },
  {
   "cell_type": "markdown",
   "metadata": {},
   "source": [
    "# 7.3 - Computing a Color Histogram\n",
    "\n",
    "Basically you split the image into channels using\n",
    "\n",
    "`channels = cv2.split(image)`\n",
    "\n",
    "Then once you do that, you also want to define the colors.\n",
    "\n",
    "`\n",
    "colors = (b, g, r)\n",
    "`\n",
    "\n",
    "Now you can zip them up and loop through them to create the hists and plot them as before\n",
    "\n",
    "## 2-D Histograms\n",
    "\n",
    "So now instead of providing just one channel, you would provide an array of channels that you would want.\n",
    "\n",
    "But now you have two ranges to provide for pixels. Not just `[0, 256]` but perhaps something like `[0, 256, 0, 256]`\n",
    "\n",
    "Thus, it's not wise for you to still use 256 bins for each dimension. The convention is to use between **8 and 64**\n",
    "\n",
    "## 3-D Histogram\n",
    "\n",
    "Same principle as a 2-D Histogram except now you have 3 channels.\n",
    "\n",
    "Only now instead of having 256 * 256 bins, you now have 256 * 256 * 256, so it's not wise to use **32 by 32 bins** anymore, but instead probably **8 by 8 bines**"
   ]
  },
  {
   "cell_type": "markdown",
   "metadata": {},
   "source": [
    "# 7.4 - Histogram Equalization\n",
    "\n",
    "## What does it do?\n",
    "\n",
    "It normalizes a peak, making a photo look more realistic.\n",
    "\n",
    "It does this by stretching the peak out towards the corner of the image.\n",
    "\n",
    "This is particularly the case in a photo when both the foregrounds and backgrounds are light or dark.\n",
    "\n",
    "This produces unrealistic effects in pictures.\n",
    "\n",
    "## How to do it\n",
    "\n",
    "Basically `openCV` has a function called `equalizeHist` that takes a grayscale image in.\n",
    "\n",
    "Reminder for how to convert an image to grayscale:\n",
    "\n",
    "`cv2.cvtColor(image, cv2.COLOR_BGR2GRAY)`\n",
    "\n",
    "Remember that's how you could change it to other ones as well. And when you want to binarize the image, remember there are different optimizations you can do"
   ]
  },
  {
   "cell_type": "markdown",
   "metadata": {},
   "source": [
    "# 7.5 - Histograms and Masks\n",
    "\n",
    "Basically we first oursource a function that we described above to plot the histograms for all channels for a given image.\n",
    "\n",
    "Only now, instead of passing `None` as the parameter for the masked argument in the `cv2.calcHist()` function, we now pass in a mask.\n",
    "\n",
    "Remember how we define a mask:\n",
    "1. First you use `numpy` to create an array of 0s the same size as the image (`image.shape[:2]` for 2-D), which effectively provides you a black canvas.\n",
    "2. Then you use `cv2.rectangle` to draw a rectangle on that `mask` with specified top left corner and bottom right corner. Note that you pass in `255` as the color to make it white, and `-1` to make it filled in\n",
    "\n",
    "Once you have the mask, then you can use cv2's built-in `cv2.bitwise_and` operator to bitwise and the image and the mask to only display the part of the image that coincides with the mask (since everything else in the mask is a 0)"
   ]
  },
  {
   "cell_type": "code",
   "execution_count": null,
   "metadata": {},
   "outputs": [],
   "source": []
  }
 ],
 "metadata": {
  "kernelspec": {
   "display_name": "Python 3",
   "language": "python",
   "name": "python3"
  },
  "language_info": {
   "codemirror_mode": {
    "name": "ipython",
    "version": 3
   },
   "file_extension": ".py",
   "mimetype": "text/x-python",
   "name": "python",
   "nbconvert_exporter": "python",
   "pygments_lexer": "ipython3",
   "version": "3.7.0"
  }
 },
 "nbformat": 4,
 "nbformat_minor": 2
}
